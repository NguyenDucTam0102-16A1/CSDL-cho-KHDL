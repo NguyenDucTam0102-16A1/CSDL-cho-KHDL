{
 "cells": [
  {
   "cell_type": "markdown",
   "id": "ac713f8d",
   "metadata": {},
   "source": [
    "# Import thư viện"
   ]
  },
  {
   "cell_type": "code",
   "execution_count": 11,
   "id": "67fc0a20",
   "metadata": {},
   "outputs": [],
   "source": [
    "import sqlite3\n",
    "import math\n",
    "import pandas as pd\n",
    "import scipy.stats as stats\n",
    "import numpy as np\n",
    "import itertools"
   ]
  },
  {
   "cell_type": "markdown",
   "id": "c292e340",
   "metadata": {},
   "source": [
    "# Câu 1 : Tính hệ số tương quan giữa hai biến A và B."
   ]
  },
  {
   "cell_type": "code",
   "execution_count": 12,
   "id": "5eb0e0af",
   "metadata": {},
   "outputs": [
    {
     "name": "stdout",
     "output_type": "stream",
     "text": [
      "Hệ số tương quan Pearson giữa A và B là: 0.8783100656536799\n"
     ]
    }
   ],
   "source": [
    "# 1. Kết nối SQLite in-memory\n",
    "conn = sqlite3.connect(\":memory:\")\n",
    "cursor = conn.cursor()\n",
    "\n",
    "# 2. Tạo bảng với 2 cột A và B\n",
    "cursor.execute(\"\"\"\n",
    "    CREATE TABLE data (\n",
    "        A REAL,\n",
    "        B REAL\n",
    "    );\n",
    "\"\"\")\n",
    "\n",
    "# 3. Chèn dữ liệu mẫu\n",
    "sample_data = [\n",
    "    (1, 2),\n",
    "    (2, 4),\n",
    "    (3, 5),\n",
    "    (4, 4),\n",
    "    (5, 5),\n",
    "    (6, 7)\n",
    "]\n",
    "\n",
    "cursor.executemany(\"INSERT INTO data (A, B) VALUES (?, ?);\", sample_data)\n",
    "\n",
    "# 4. Truy vấn dữ liệu cần thiết cho công thức Pearson\n",
    "cursor.execute(\"\"\"\n",
    "    SELECT \n",
    "        COUNT(*) AS n,\n",
    "        SUM(A) AS sum_a,\n",
    "        SUM(B) AS sum_b,\n",
    "        SUM(A * B) AS sum_ab,\n",
    "        SUM(A * A) AS sum_a2,\n",
    "        SUM(B * B) AS sum_b2\n",
    "    FROM data;\n",
    "\"\"\")\n",
    "\n",
    "n, sum_a, sum_b, sum_ab, sum_a2, sum_b2 = cursor.fetchone()\n",
    "\n",
    "# 5. Tính hệ số tương quan Pearson\n",
    "numerator = n * sum_ab - sum_a * sum_b\n",
    "denominator = math.sqrt(n * sum_a2 - sum_a**2) * math.sqrt(n * sum_b2 - sum_b**2)\n",
    "\n",
    "r_ab = numerator / denominator if denominator != 0 else None\n",
    "\n",
    "print(\"Hệ số tương quan Pearson giữa A và B là:\", r_ab)\n",
    "\n",
    "# 6. Đóng kết nối\n",
    "conn.close()"
   ]
  },
  {
   "cell_type": "markdown",
   "id": "b3884e19",
   "metadata": {},
   "source": [
    "# Câu 2 : Thực hiện kiểm định Chi-Square (χ²)."
   ]
  },
  {
   "cell_type": "code",
   "execution_count": 13,
   "id": "7631e135",
   "metadata": {},
   "outputs": [
    {
     "name": "stdout",
     "output_type": "stream",
     "text": [
      "Dữ liệu sau khi phân loại:\n",
      "  Day CarModel  Score ScoreLevel\n",
      "Day 1        A    8.0     Medium\n",
      "Day 2        A    7.5     Medium\n",
      "Day 3        A    6.0        Low\n",
      "Day 4        A    7.0     Medium\n",
      "Day 1        B    9.0       High\n",
      "Day 2        B    8.5       High\n",
      "Day 3        B    7.0     Medium\n",
      "Day 4        B    6.0        Low\n",
      "Day 1        C    7.0     Medium\n",
      "Day 2        C    7.0     Medium\n",
      "Day 3        C    8.0     Medium\n",
      "Day 4        C    5.0        Low\n",
      "Bảng chéo (contingency table):\n",
      " ScoreLevel  High  Low  Medium\n",
      "CarModel                     \n",
      "A              0    1       3\n",
      "B              2    1       1\n",
      "C              0    1       3\n",
      "\n",
      "Chi-square = 5.1429, p-value = 0.2730, dof = 4\n",
      "=> Không có sự khác biệt đáng kể giữa các mẫu.\n"
     ]
    }
   ],
   "source": [
    "# Bước 1: Dữ liệu gốc\n",
    "data = {\n",
    "    'Day': ['Day 1', 'Day 2', 'Day 3', 'Day 4'],\n",
    "    'A': [8, 7.5, 6, 7],\n",
    "    'B': [9, 8.5, 7, 6],\n",
    "    'C': [7, 7, 8, 5]\n",
    "}\n",
    "\n",
    "df = pd.DataFrame(data)\n",
    "\n",
    "# Bước 2: Chuyển sang dạng quan hệ (long format)\n",
    "df_long = df.melt(id_vars='Day', var_name='CarModel', value_name='Score')\n",
    "\n",
    "# Bước 3: Phân loại điểm số (ví dụ Low <=6, Medium <=8, High >8)\n",
    "def score_category(score):\n",
    "    if score <= 6:\n",
    "        return 'Low'\n",
    "    elif score <= 8:\n",
    "        return 'Medium'\n",
    "    else:\n",
    "        return 'High'\n",
    "\n",
    "df_long['ScoreLevel'] = df_long['Score'].apply(score_category)\n",
    "\n",
    "print(\"Dữ liệu sau khi phân loại:\")\n",
    "print(df_long.to_string(index=False))\n",
    "\n",
    "# Bước 4: Tạo bảng chéo và kiểm định chi-square\n",
    "contingency_table = pd.crosstab(df_long['CarModel'], df_long['ScoreLevel'])\n",
    "\n",
    "chi2, p, dof, expected = stats.chi2_contingency(contingency_table)\n",
    "\n",
    "print(\"Bảng chéo (contingency table):\\n\", contingency_table)\n",
    "print(\"\\nChi-square = {:.4f}, p-value = {:.4f}, dof = {}\".format(chi2, p, dof))\n",
    "\n",
    "if p < 0.05:\n",
    "    print(\"=> Có sự khác biệt đáng kể giữa các mẫu.\")\n",
    "else:\n",
    "    print(\"=> Không có sự khác biệt đáng kể giữa các mẫu.\")\n",
    "\n"
   ]
  },
  {
   "cell_type": "markdown",
   "id": "5333466a",
   "metadata": {},
   "source": [
    "# Câu 3 : Chuyển đổi các giá trị này thành định dạng thời gian."
   ]
  },
  {
   "cell_type": "code",
   "execution_count": 14,
   "id": "393b06ce",
   "metadata": {},
   "outputs": [
    {
     "name": "stdout",
     "output_type": "stream",
     "text": [
      "   departure_time formatted_time\n",
      "0             830          08:30\n",
      "1            1445          14:45\n",
      "2               5          00:05\n",
      "3             945          09:45\n",
      "4            1230          12:30\n"
     ]
    }
   ],
   "source": [
    "# Ví dụ dữ liệu\n",
    "df = pd.DataFrame({\n",
    "    'departure_time': [830, 1445, 5, 945, 1230]\n",
    "})\n",
    "\n",
    "# Hàm chuyển đổi thời gian số sang định dạng HH:MM\n",
    "def convert_to_time(x):\n",
    "    x = int(x)\n",
    "    hour = x // 100\n",
    "    minute = x % 100\n",
    "    return f\"{hour:02d}:{minute:02d}\"\n",
    "\n",
    "# Áp dụng chuyển đổi\n",
    "df['formatted_time'] = df['departure_time'].apply(convert_to_time)\n",
    "\n",
    "print(df)\n"
   ]
  },
  {
   "cell_type": "markdown",
   "id": "3958e3e5",
   "metadata": {},
   "source": [
    "# Câu 4 : Phát hiện ngoại lệ bằng phương pháp MAD (Median Absolute Deviation)."
   ]
  },
  {
   "cell_type": "code",
   "execution_count": 15,
   "id": "78330fbb",
   "metadata": {},
   "outputs": [
    {
     "name": "stdout",
     "output_type": "stream",
     "text": [
      "    value  abs_dev  mad_score  is_outlier\n",
      "0      10      2.0        2.0        True\n",
      "1      12      0.0        0.0       False\n",
      "2      11      1.0        1.0       False\n",
      "3      13      1.0        1.0       False\n",
      "4      12      0.0        0.0       False\n",
      "5     100     88.0       88.0        True\n",
      "6      11      1.0        1.0       False\n",
      "7      12      0.0        0.0       False\n",
      "8      13      1.0        1.0       False\n",
      "9      14      2.0        2.0        True\n",
      "10      9      3.0        3.0        True\n",
      "11     11      1.0        1.0       False\n"
     ]
    }
   ],
   "source": [
    "# Ví dụ dữ liệu\n",
    "df = pd.DataFrame({\n",
    "    'value': [10, 12, 11, 13, 12, 100, 11, 12, 13, 14, 9, 11]  # 100 là ngoại lệ rõ ràng\n",
    "})\n",
    "\n",
    "# Bước 1: Tính median\n",
    "median = df['value'].median()\n",
    "\n",
    "# Bước 2: Tính độ lệch tuyệt đối\n",
    "df['abs_dev'] = (df['value'] - median).abs()\n",
    "\n",
    "# Bước 3: Tính MAD\n",
    "mad = df['abs_dev'].median()\n",
    "\n",
    "# Bước 4: Tính MAD Score\n",
    "df['mad_score'] = df['abs_dev'] / mad\n",
    "\n",
    "# Bước 5: Đánh dấu ngoại lệ với ngưỡng x = 1.5\n",
    "threshold = 1.5\n",
    "df['is_outlier'] = df['mad_score'] > threshold\n",
    "\n",
    "# In kết quả\n",
    "print(df)\n"
   ]
  },
  {
   "cell_type": "markdown",
   "id": "bd084034",
   "metadata": {},
   "source": [
    "# Câu 5 : Xác định xem hai người trong bảng Patient(last_name, weight, height) có phải là cùng một người hay không."
   ]
  },
  {
   "cell_type": "code",
   "execution_count": 16,
   "id": "1a574d72",
   "metadata": {},
   "outputs": [
    {
     "name": "stdout",
     "output_type": "stream",
     "text": [
      "Các cặp bệnh nhân nghi là cùng một người:\n",
      "   patient_1  patient_2 last_name  weight_diff\n",
      "0          1          2    Nguyen          0.5\n",
      "1          1          4    Nguyen          1.0\n",
      "2          2          4    Nguyen          0.5\n"
     ]
    }
   ],
   "source": [
    "# Giả sử dữ liệu bảng Patient\n",
    "df = pd.DataFrame({\n",
    "    'patient_id': [1, 2, 3, 4],\n",
    "    'last_name': ['Nguyen', 'Nguyen', 'Tran', 'Nguyen'],\n",
    "    'weight': [60, 60.5, 55, 61],\n",
    "    'height': [160, 160, 165, 160]\n",
    "})\n",
    "\n",
    "# Ngưỡng cho phép sai số cân nặng (ví dụ 1.0 kg)\n",
    "weight_threshold = 1.0\n",
    "\n",
    "# So sánh từng cặp bệnh nhân\n",
    "possible_matches = []\n",
    "for (i1, row1), (i2, row2) in itertools.combinations(df.iterrows(), 2):\n",
    "    same_last_name = row1['last_name'].lower() == row2['last_name'].lower()\n",
    "    close_weight = abs(row1['weight'] - row2['weight']) <= weight_threshold\n",
    "\n",
    "    if same_last_name and close_weight:\n",
    "        possible_matches.append({\n",
    "            'patient_1': row1['patient_id'],\n",
    "            'patient_2': row2['patient_id'],\n",
    "            'last_name': row1['last_name'],\n",
    "            'weight_diff': abs(row1['weight'] - row2['weight'])\n",
    "        })\n",
    "\n",
    "# In ra các cặp nghi ngờ là cùng một người\n",
    "matches_df = pd.DataFrame(possible_matches)\n",
    "print(\"Các cặp bệnh nhân nghi là cùng một người:\")\n",
    "print(matches_df)\n"
   ]
  }
 ],
 "metadata": {
  "kernelspec": {
   "display_name": "Python 3",
   "language": "python",
   "name": "python3"
  },
  "language_info": {
   "codemirror_mode": {
    "name": "ipython",
    "version": 3
   },
   "file_extension": ".py",
   "mimetype": "text/x-python",
   "name": "python",
   "nbconvert_exporter": "python",
   "pygments_lexer": "ipython3",
   "version": "3.11.0"
  }
 },
 "nbformat": 4,
 "nbformat_minor": 5
}
